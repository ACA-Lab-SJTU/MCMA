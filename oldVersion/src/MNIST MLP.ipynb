{
 "cells": [
  {
   "cell_type": "code",
   "execution_count": 1,
   "metadata": {},
   "outputs": [
    {
     "name": "stderr",
     "output_type": "stream",
     "text": [
      "/home/shy/anaconda2/lib/python2.7/site-packages/h5py/__init__.py:36: FutureWarning: Conversion of the second argument of issubdtype from `float` to `np.floating` is deprecated. In future, it will be treated as `np.float64 == np.dtype(float).type`.\n",
      "  from ._conv import register_converters as _register_converters\n",
      "Using TensorFlow backend.\n"
     ]
    }
   ],
   "source": [
    "from __future__ import print_function\n",
    "\n",
    "import keras\n",
    "from keras.datasets import mnist\n",
    "from keras.models import Sequential\n",
    "from keras.layers import Dense, Dropout\n",
    "from keras.optimizers import RMSprop"
   ]
  },
  {
   "cell_type": "code",
   "execution_count": 2,
   "metadata": {},
   "outputs": [],
   "source": [
    "batch_size = 128\n",
    "num_classes = 10\n",
    "epochs = 20"
   ]
  },
  {
   "cell_type": "code",
   "execution_count": 3,
   "metadata": {},
   "outputs": [
    {
     "name": "stdout",
     "output_type": "stream",
     "text": [
      "60000 train samples\n",
      "10000 test samples\n"
     ]
    }
   ],
   "source": [
    "#the data, split between train and test sets\n",
    "(x_train, y_train), (x_test, y_test) = mnist.load_data()\n",
    "x_train = x_train.reshape(60000,784)\n",
    "x_test = x_test.reshape(10000,784)\n",
    "x_train = x_train.astype('float32')\n",
    "x_test = x_test.astype('float32')\n",
    "x_train /= 255\n",
    "x_test /= 255\n",
    "print(x_train.shape[0],'train samples')\n",
    "print(x_test.shape[0],'test samples')"
   ]
  },
  {
   "cell_type": "code",
   "execution_count": 4,
   "metadata": {},
   "outputs": [],
   "source": [
    "y_train = keras.utils.to_categorical(y_train,num_classes)\n",
    "y_test = keras.utils.to_categorical(y_test,num_classes)"
   ]
  },
  {
   "cell_type": "code",
   "execution_count": 5,
   "metadata": {},
   "outputs": [],
   "source": [
    "model = Sequential()\n",
    "model.add(Dense(512,activation='relu',input_shape=(784,)))\n",
    "model.add(Dropout(0.2))\n",
    "model.add(Dense(512,activation='relu'))\n",
    "model.add(Dropout(0.2))\n",
    "model.add(Dense(num_classes,activation='softmax'))"
   ]
  },
  {
   "cell_type": "code",
   "execution_count": 6,
   "metadata": {},
   "outputs": [
    {
     "name": "stdout",
     "output_type": "stream",
     "text": [
      "_________________________________________________________________\n",
      "Layer (type)                 Output Shape              Param #   \n",
      "=================================================================\n",
      "dense_1 (Dense)              (None, 512)               401920    \n",
      "_________________________________________________________________\n",
      "dropout_1 (Dropout)          (None, 512)               0         \n",
      "_________________________________________________________________\n",
      "dense_2 (Dense)              (None, 512)               262656    \n",
      "_________________________________________________________________\n",
      "dropout_2 (Dropout)          (None, 512)               0         \n",
      "_________________________________________________________________\n",
      "dense_3 (Dense)              (None, 10)                5130      \n",
      "=================================================================\n",
      "Total params: 669,706\n",
      "Trainable params: 669,706\n",
      "Non-trainable params: 0\n",
      "_________________________________________________________________\n"
     ]
    }
   ],
   "source": [
    "model.summary()"
   ]
  },
  {
   "cell_type": "code",
   "execution_count": 7,
   "metadata": {},
   "outputs": [
    {
     "name": "stdout",
     "output_type": "stream",
     "text": [
      "Train on 60000 samples, validate on 10000 samples\n",
      "Epoch 1/20\n",
      "60000/60000 [==============================] - 23s 378us/step - loss: 0.2495 - acc: 0.9231 - val_loss: 0.0958 - val_acc: 0.9712\n",
      "Epoch 2/20\n",
      "60000/60000 [==============================] - 22s 359us/step - loss: 0.1046 - acc: 0.9685 - val_loss: 0.0991 - val_acc: 0.9699\n",
      "Epoch 3/20\n",
      "60000/60000 [==============================] - 22s 359us/step - loss: 0.0767 - acc: 0.9765 - val_loss: 0.0742 - val_acc: 0.9776\n",
      "Epoch 4/20\n",
      "60000/60000 [==============================] - 21s 355us/step - loss: 0.0599 - acc: 0.9820 - val_loss: 0.0711 - val_acc: 0.9804\n",
      "Epoch 5/20\n",
      "60000/60000 [==============================] - 22s 365us/step - loss: 0.0507 - acc: 0.9848 - val_loss: 0.0807 - val_acc: 0.9806\n",
      "Epoch 6/20\n",
      "60000/60000 [==============================] - 22s 366us/step - loss: 0.0442 - acc: 0.9865 - val_loss: 0.0788 - val_acc: 0.9799\n",
      "Epoch 7/20\n",
      "60000/60000 [==============================] - 22s 365us/step - loss: 0.0390 - acc: 0.9887 - val_loss: 0.0833 - val_acc: 0.9814\n",
      "Epoch 8/20\n",
      "60000/60000 [==============================] - 21s 352us/step - loss: 0.0378 - acc: 0.9890 - val_loss: 0.0775 - val_acc: 0.9822\n",
      "Epoch 9/20\n",
      "60000/60000 [==============================] - 22s 372us/step - loss: 0.0336 - acc: 0.9905 - val_loss: 0.0839 - val_acc: 0.9827\n",
      "Epoch 10/20\n",
      "60000/60000 [==============================] - 21s 352us/step - loss: 0.0309 - acc: 0.9908 - val_loss: 0.0969 - val_acc: 0.9799\n",
      "Epoch 11/20\n",
      "60000/60000 [==============================] - 22s 364us/step - loss: 0.0271 - acc: 0.9920 - val_loss: 0.0969 - val_acc: 0.9823\n",
      "Epoch 12/20\n",
      "60000/60000 [==============================] - 21s 352us/step - loss: 0.0277 - acc: 0.9922 - val_loss: 0.0883 - val_acc: 0.9853\n",
      "Epoch 13/20\n",
      "60000/60000 [==============================] - 21s 342us/step - loss: 0.0267 - acc: 0.9925 - val_loss: 0.0975 - val_acc: 0.9839\n",
      "Epoch 14/20\n",
      "60000/60000 [==============================] - 21s 356us/step - loss: 0.0242 - acc: 0.9932 - val_loss: 0.1052 - val_acc: 0.9818\n",
      "Epoch 15/20\n",
      "60000/60000 [==============================] - 22s 368us/step - loss: 0.0229 - acc: 0.9936 - val_loss: 0.0915 - val_acc: 0.9847\n",
      "Epoch 16/20\n",
      "60000/60000 [==============================] - 22s 365us/step - loss: 0.0212 - acc: 0.9942 - val_loss: 0.1008 - val_acc: 0.9839\n",
      "Epoch 17/20\n",
      "60000/60000 [==============================] - 22s 373us/step - loss: 0.0210 - acc: 0.9943 - val_loss: 0.1110 - val_acc: 0.9836\n",
      "Epoch 18/20\n",
      "60000/60000 [==============================] - 22s 363us/step - loss: 0.0199 - acc: 0.9943 - val_loss: 0.1062 - val_acc: 0.9843\n",
      "Epoch 19/20\n",
      "60000/60000 [==============================] - 22s 368us/step - loss: 0.0193 - acc: 0.9945 - val_loss: 0.1159 - val_acc: 0.9822\n",
      "Epoch 20/20\n",
      "60000/60000 [==============================] - 21s 357us/step - loss: 0.0197 - acc: 0.9950 - val_loss: 0.1166 - val_acc: 0.9838\n"
     ]
    }
   ],
   "source": [
    "model.compile(loss='categorical_crossentropy',\n",
    "              optimizer=RMSprop(),\n",
    "              metrics=['accuracy'])\n",
    "history = model.fit(x_train,y_train,\n",
    "                    batch_size=batch_size,\n",
    "                    epochs=epochs,\n",
    "                    verbose=1,\n",
    "                    validation_data=(x_test,y_test))\n",
    "score=model.evaluate(x_test,y_test,verbose=0)"
   ]
  },
  {
   "cell_type": "code",
   "execution_count": 8,
   "metadata": {},
   "outputs": [
    {
     "name": "stdout",
     "output_type": "stream",
     "text": [
      "Test loss: 0.11657458800925337\n",
      "Test accuracy: 0.9838\n"
     ]
    }
   ],
   "source": [
    "print('Test loss:',score[0])\n",
    "print('Test accuracy:',score[1])"
   ]
  },
  {
   "cell_type": "code",
   "execution_count": null,
   "metadata": {},
   "outputs": [],
   "source": []
  }
 ],
 "metadata": {
  "kernelspec": {
   "display_name": "Python 2",
   "language": "python",
   "name": "python2"
  },
  "language_info": {
   "codemirror_mode": {
    "name": "ipython",
    "version": 2
   },
   "file_extension": ".py",
   "mimetype": "text/x-python",
   "name": "python",
   "nbconvert_exporter": "python",
   "pygments_lexer": "ipython2",
   "version": "2.7.14"
  }
 },
 "nbformat": 4,
 "nbformat_minor": 2
}

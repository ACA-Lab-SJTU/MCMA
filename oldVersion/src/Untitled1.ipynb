{
 "cells": [
  {
   "cell_type": "code",
   "execution_count": 9,
   "metadata": {},
   "outputs": [],
   "source": [
    "import os\n",
    "import random \n",
    "import sys\n",
    "def cal():\n",
    "    data = [random.random() for i in range(6)]\n",
    "    res = 0\n",
    "    for i in range(3):\n",
    "        res = res + (data[i]-data[i+3])*(data[i]-data[i+3])\n",
    "    sd = ''\n",
    "    rd = ''\n",
    "    for i in data:\n",
    "        sd = sd + str(i)+' '\n",
    "    sd = sd + '\\n'\n",
    "    rd = str(res)\n",
    "    rd = rd + '\\n'\n",
    "    return sd, rd\n",
    "def main():\n",
    "    testx = open('test.x','w')\n",
    "    testy = open('test.y','w')\n",
    "    trainx = open('train.x','w')\n",
    "    trainy = open('train.y','w')\n",
    "    for i in range(100000):\n",
    "        data, res = cal()\n",
    "        trainx.write(data)\n",
    "        trainy.write(res)\n",
    "    for i in range(50000):\n",
    "        data, res = cal()\n",
    "        testx.write(data)\n",
    "        testy.write(res)\n",
    "    testx.close()\n",
    "    testy.close()\n",
    "    trainx.close()\n",
    "    trainy.close()\n",
    "main()"
   ]
  },
  {
   "cell_type": "code",
   "execution_count": 7,
   "metadata": {},
   "outputs": [
    {
     "name": "stdout",
     "output_type": "stream",
     "text": [
      "0.673303527689 world\n",
      "\n"
     ]
    }
   ],
   "source": [
    "a = str(rd.random())\n",
    "#a = 'hello'\n",
    "b = 'world'\n",
    "c = a+' '+b+'\\n'\n",
    "print(c)"
   ]
  },
  {
   "cell_type": "code",
   "execution_count": 6,
   "metadata": {},
   "outputs": [
    {
     "name": "stdout",
     "output_type": "stream",
     "text": [
      "0.569921851158 0.57785153389 0.542148470879 0.551406264305 0.55300784111 0.526835918427 0.488710939884 0.466640621424 0.345781266689 \n",
      "\n",
      "0.546197045683\n",
      "\n"
     ]
    }
   ],
   "source": [
    "import os\n",
    "import random \n",
    "import sys\n",
    "from math import sqrt\n",
    "\n",
    "kx = [[-1,-2,-1],[0,0,0],[1,2,1]]\n",
    "ky = [[-1,0,1],[-2,0,2],[-1,0,1]]\n",
    "\n",
    "def convolve(w,k):\n",
    "    r = 0\n",
    "    for j in range(3):\n",
    "        for i in range(3):\n",
    "            r = r + w[i*3+j]*k[j][i]\n",
    "    return r\n",
    "def cal():\n",
    "    data = [random.random() for i in range(9)]\n",
    "    sx = convolve(data,ky)\n",
    "    sy = convolve(data,kx)\n",
    "    s = sqrt(sx*sx+sy*sy)\n",
    "    if s >= (256 / sqrt(256 * 256 + 256 * 256)):\n",
    "        s = (256 / sqrt(256 * 256 + 256 * 256))\n",
    "    sd = ''\n",
    "    rd = ''\n",
    "    for i in data:\n",
    "        sd = sd + str(i)+' '\n",
    "    sd = sd + '\\n'\n",
    "    rd = str(s)\n",
    "    rd = rd + '\\n'\n",
    "    return sd, rd\n",
    "def main():\n",
    "    testx = open('test.x','w')\n",
    "    testy = open('test.y','w')\n",
    "    trainx = open('train.x','w')\n",
    "    trainy = open('train.y','w')\n",
    "    for i in range(100000):\n",
    "        data, res = cal()\n",
    "        trainx.write(data)\n",
    "        trainy.write(res)\n",
    "    for i in range(50000):\n",
    "        data, res = cal()\n",
    "        testx.write(data)\n",
    "        testy.write(res)\n",
    "    testx.close()\n",
    "    testy.close()\n",
    "    trainx.close()\n",
    "    trainy.close()\n",
    "main()"
   ]
  },
  {
   "cell_type": "code",
   "execution_count": null,
   "metadata": {},
   "outputs": [],
   "source": []
  }
 ],
 "metadata": {
  "kernelspec": {
   "display_name": "Python 2",
   "language": "python",
   "name": "python2"
  },
  "language_info": {
   "codemirror_mode": {
    "name": "ipython",
    "version": 2
   },
   "file_extension": ".py",
   "mimetype": "text/x-python",
   "name": "python",
   "nbconvert_exporter": "python",
   "pygments_lexer": "ipython2",
   "version": "2.7.14"
  }
 },
 "nbformat": 4,
 "nbformat_minor": 2
}
